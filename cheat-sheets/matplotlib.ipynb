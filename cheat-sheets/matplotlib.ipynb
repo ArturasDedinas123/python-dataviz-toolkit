{
  "cells": [
    {
      "cell_type": "markdown",
      "metadata": {
        "vscode": {
          "languageId": "raw"
        }
      },
      "source": [
        "# Matplotlib Cheat Sheet for Data Scientists\n",
        "\n",
        "Matplotlib is the foundation of Python plotting. Understanding it well helps with all other visualization libraries.\n",
        "\n",
        "**Key Concept**: Matplotlib has two interfaces:\n",
        "1. **pyplot** (MATLAB-like): Quick plots with `plt.plot()`\n",
        "2. **Object-oriented**: More control with `fig, ax = plt.subplots()`\n"
      ]
    },
    {
      "cell_type": "markdown",
      "metadata": {
        "vscode": {
          "languageId": "raw"
        }
      },
      "source": [
        "## 1. Essential Setup\n"
      ]
    },
    {
      "cell_type": "code",
      "execution_count": 1,
      "metadata": {},
      "outputs": [],
      "source": [
        "import matplotlib.pyplot as plt\n",
        "import numpy as np\n",
        "\n",
        "# Jupyter setup\n",
        "# %matplotlib inline  # Static plots\n",
        "# %matplotlib notebook  # Interactive plots\n",
        "\n",
        "# Common settings\n",
        "plt.rcParams['figure.figsize'] = (10, 6)\n",
        "plt.rcParams['font.size'] = 12\n",
        "plt.rcParams['lines.linewidth'] = 2\n"
      ]
    },
    {
      "cell_type": "markdown",
      "metadata": {
        "vscode": {
          "languageId": "raw"
        }
      },
      "source": [
        "## 2. Figure and Axes Fundamentals\n",
        "\n",
        "```python\n",
        "# Method 1: pyplot interface (simple)\n",
        "plt.plot([1, 2, 3], [4, 5, 6])\n",
        "plt.show()\n",
        "\n",
        "# Method 2: Object-oriented (recommended for complex plots)\n",
        "fig, ax = plt.subplots()  # Creates figure and axes\n",
        "ax.plot([1, 2, 3], [4, 5, 6])\n",
        "plt.show()\n",
        "\n",
        "# Multiple subplots\n",
        "fig, (ax1, ax2) = plt.subplots(1, 2, figsize=(12, 5))\n",
        "fig, axes = plt.subplots(2, 2, figsize=(10, 8))  # 2x2 grid\n",
        "\n",
        "# Access specific subplot\n",
        "axes[0, 0].plot(x, y)  # Top-left\n",
        "axes[1, 1].scatter(x, y)  # Bottom-right\n",
        "```\n",
        "\n",
        "### Key Components\n",
        "- **Figure**: The entire window/page\n",
        "- **Axes**: The actual plot area (not axis!)\n",
        "- **Axis**: The x or y axis line\n",
        "- **Artist**: Everything visible (lines, text, etc.)\n"
      ]
    },
    {
      "cell_type": "markdown",
      "metadata": {
        "vscode": {
          "languageId": "raw"
        }
      },
      "source": [
        "## 3. Common Plot Types - Quick Reference\n"
      ]
    },
    {
      "cell_type": "code",
      "execution_count": 2,
      "metadata": {},
      "outputs": [],
      "source": [
        "# PLOT TYPE TEMPLATES (replace variables with your data)\n",
        "\n",
        "# Line plot\n",
        "# ax.plot(x, y, color='blue', linestyle='--', linewidth=2, \n",
        "#         marker='o', markersize=8, label='Series 1')\n",
        "\n",
        "# Scatter plot\n",
        "# ax.scatter(x, y, s=50, c=colors, alpha=0.5, edgecolors='black')\n",
        "\n",
        "# Bar plot\n",
        "# ax.bar(categories, values, color='skyblue', edgecolor='navy')\n",
        "# ax.barh(categories, values)  # Horizontal bars\n",
        "\n",
        "# Histogram\n",
        "# ax.hist(data, bins=30, density=True, alpha=0.7, edgecolor='black')\n",
        "\n",
        "# Box plot\n",
        "# ax.boxplot([data1, data2, data3], labels=['A', 'B', 'C'])\n",
        "\n",
        "# Pie chart\n",
        "# ax.pie(sizes, labels=labels, autopct='%1.1f%%', startangle=90)\n",
        "\n",
        "# Heatmap (using imshow)\n",
        "# ax.imshow(matrix, cmap='viridis', aspect='auto')\n",
        "# plt.colorbar()  # Add colorbar\n",
        "\n",
        "# Fill between\n",
        "# ax.fill_between(x, y1, y2, alpha=0.3, color='gray')\n",
        "\n",
        "# Error bars\n",
        "# ax.errorbar(x, y, yerr=errors, fmt='o', capsize=5)\n"
      ]
    },
    {
      "cell_type": "markdown",
      "metadata": {
        "vscode": {
          "languageId": "raw"
        }
      },
      "source": [
        "## 4. Customization Essentials\n",
        "\n",
        "### Colors, Markers, and Line Styles\n"
      ]
    },
    {
      "cell_type": "code",
      "execution_count": 3,
      "metadata": {},
      "outputs": [],
      "source": [
        "# Color specifications\n",
        "color='red'                  # Named color\n",
        "color='#FF5733'             # Hex color\n",
        "color=(0.1, 0.2, 0.5)       # RGB tuple\n",
        "color='C0'                  # Default color cycle (C0-C9)\n",
        "\n",
        "# Line styles\n",
        "linestyle='-'     # solid\n",
        "linestyle='--'    # dashed\n",
        "linestyle='-.'    # dashdot\n",
        "linestyle=':'     # dotted\n",
        "\n",
        "# Markers\n",
        "marker='o'    # circle\n",
        "marker='s'    # square\n",
        "marker='^'    # triangle up\n",
        "marker='*'    # star\n",
        "marker='+'    # plus\n",
        "marker='x'    # x\n",
        "\n",
        "# Common combinations (examples)\n",
        "# ax.plot(x, y, 'ro-')        # red circles with solid line\n",
        "# ax.plot(x, y, 'b--')        # blue dashed line\n",
        "# ax.plot(x, y, 'g^:')        # green triangles with dotted line\n",
        "\n",
        "# Alpha for transparency\n",
        "# ax.scatter(x, y, alpha=0.5)  # 50% transparent\n"
      ]
    },
    {
      "cell_type": "markdown",
      "metadata": {
        "vscode": {
          "languageId": "raw"
        }
      },
      "source": [
        "### Labels, Titles, and Legends\n"
      ]
    },
    {
      "cell_type": "code",
      "execution_count": 4,
      "metadata": {},
      "outputs": [],
      "source": [
        "# CUSTOMIZATION TEMPLATES\n",
        "\n",
        "# Titles and labels\n",
        "# ax.set_title('Plot Title', fontsize=16, fontweight='bold')\n",
        "# ax.set_xlabel('X Label', fontsize=12)\n",
        "# ax.set_ylabel('Y Label', fontsize=12)\n",
        "\n",
        "# Legend\n",
        "# ax.plot(x1, y1, label='Series 1')\n",
        "# ax.plot(x2, y2, label='Series 2')\n",
        "# ax.legend()  # Auto position\n",
        "# ax.legend(loc='upper right')  # Specific position\n",
        "# ax.legend(loc='best')  # Best auto position\n",
        "\n",
        "# Legend positions: \n",
        "# 'upper right', 'upper left', 'lower right', 'lower left',\n",
        "# 'center', 'center left', 'center right', 'upper center', 'lower center'\n",
        "\n",
        "# Ticks and grid\n",
        "# ax.set_xticks([0, 1, 2, 3, 4])\n",
        "# ax.set_xticklabels(['A', 'B', 'C', 'D', 'E'])\n",
        "# ax.tick_params(axis='x', rotation=45)\n",
        "# ax.grid(True, alpha=0.3)\n",
        "# ax.grid(True, which='both', linestyle='--', linewidth=0.5)\n",
        "\n",
        "# Limits\n",
        "# ax.set_xlim(0, 10)\n",
        "# ax.set_ylim(-5, 5)\n"
      ]
    },
    {
      "cell_type": "markdown",
      "metadata": {
        "vscode": {
          "languageId": "raw"
        }
      },
      "source": [
        "## 5. Advanced Features\n",
        "\n",
        "### Annotations and Text\n"
      ]
    },
    {
      "cell_type": "code",
      "execution_count": 5,
      "metadata": {},
      "outputs": [],
      "source": [
        "# Text annotations\n",
        "# ax.text(x, y, 'Text here', fontsize=12, ha='center')\n",
        "\n",
        "# Annotate with arrow\n",
        "# ax.annotate('Important point', xy=(x, y), xytext=(x+1, y+1),\n",
        "#             arrowprops=dict(arrowstyle='->', color='red'))\n",
        "\n",
        "# Mathematical text (LaTeX)\n",
        "# ax.set_xlabel(r'$\\alpha$ coefficient')\n",
        "# ax.text(0.5, 0.5, r'$\\sum_{i=1}^{n} x_i^2$')\n"
      ]
    },
    {
      "cell_type": "markdown",
      "metadata": {
        "vscode": {
          "languageId": "raw"
        }
      },
      "source": [
        "### Saving Figures\n"
      ]
    },
    {
      "cell_type": "code",
      "execution_count": 6,
      "metadata": {},
      "outputs": [],
      "source": [
        "# Save figure with various options\n",
        "# plt.savefig('plot.png')  # Basic save\n",
        "# plt.savefig('plot.png', dpi=300)  # High resolution\n",
        "# plt.savefig('plot.pdf', bbox_inches='tight')  # Remove whitespace\n",
        "# plt.savefig('plot.svg', transparent=True)  # Transparent background\n",
        "\n",
        "# Common formats: png, jpg, pdf, svg, eps\n"
      ]
    },
    {
      "cell_type": "markdown",
      "metadata": {
        "vscode": {
          "languageId": "raw"
        }
      },
      "source": [
        "## 6. Common Patterns and Best Practices\n",
        "\n",
        "### Multiple Y-axes\n"
      ]
    },
    {
      "cell_type": "code",
      "execution_count": 7,
      "metadata": {},
      "outputs": [],
      "source": [
        "# Create figure with secondary y-axis\n",
        "# fig, ax1 = plt.subplots()\n",
        "# ax2 = ax1.twinx()  # Create second y-axis\n",
        "# \n",
        "# ax1.plot(x, y1, 'g-', label='Temperature')\n",
        "# ax2.plot(x, y2, 'b-', label='Pressure')\n",
        "# \n",
        "# ax1.set_xlabel('Time')\n",
        "# ax1.set_ylabel('Temperature', color='g')\n",
        "# ax2.set_ylabel('Pressure', color='b')\n"
      ]
    },
    {
      "cell_type": "markdown",
      "metadata": {
        "vscode": {
          "languageId": "raw"
        }
      },
      "source": [
        "### Colormaps Reference\n",
        "\n",
        "```python\n",
        "# Sequential (low to high)\n",
        "'viridis', 'plasma', 'Blues', 'Greens', 'Oranges', 'Purples'\n",
        "\n",
        "# Diverging (two extremes with center)\n",
        "'RdBu', 'RdYlBu', 'coolwarm', 'bwr', 'seismic'\n",
        "\n",
        "# Qualitative (categorical)\n",
        "'tab10', 'tab20', 'Set1', 'Set2', 'Set3', 'Paired'\n",
        "\n",
        "# Usage\n",
        "plt.cm.viridis  # Access colormap\n",
        "plt.colorbar()  # Add colorbar to plot\n",
        "```\n",
        "\n",
        "## 7. Quick Tips\n",
        "\n",
        "1. **Clear figures to save memory**: `plt.close('all')`\n",
        "2. **Tight layout to prevent overlap**: `plt.tight_layout()`\n",
        "3. **Interactive mode**: `plt.ion()` for dynamic updates\n",
        "4. **Get current axes**: `ax = plt.gca()`\n",
        "5. **Get current figure**: `fig = plt.gcf()`\n",
        "\n",
        "## 8. Common Issues and Solutions\n",
        "\n",
        "| Issue | Solution |\n",
        "|-------|----------|\n",
        "| Text cut off | `plt.tight_layout()` or `bbox_inches='tight'` when saving |\n",
        "| Small text | Increase with `plt.rcParams['font.size'] = 14` |\n",
        "| Overlapping labels | Rotate with `plt.xticks(rotation=45)` |\n",
        "| Low resolution | Save with `dpi=300` or higher |\n",
        "| Can't see plot in script | Add `plt.show()` at the end |\n"
      ]
    },
    {
      "cell_type": "markdown",
      "metadata": {},
      "source": []
    }
  ],
  "metadata": {
    "kernelspec": {
      "display_name": "pydata-book",
      "language": "python",
      "name": "python3"
    },
    "language_info": {
      "codemirror_mode": {
        "name": "ipython",
        "version": 3
      },
      "file_extension": ".py",
      "mimetype": "text/x-python",
      "name": "python",
      "nbconvert_exporter": "python",
      "pygments_lexer": "ipython3",
      "version": "3.13.5"
    }
  },
  "nbformat": 4,
  "nbformat_minor": 2
}
