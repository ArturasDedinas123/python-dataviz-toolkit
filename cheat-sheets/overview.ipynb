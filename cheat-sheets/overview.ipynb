{
  "cells": [
    {
      "cell_type": "markdown",
      "metadata": {
        "vscode": {
          "languageId": "raw"
        }
      },
      "source": [
        "# Data Visualization Cheat Sheet - Overview\n",
        "## Essential Knowledge for Data Scientists\n",
        "\n",
        "This notebook contains the most important and concise information about data visualization in Python, covering key concepts that apply across all visualization libraries."
      ]
    },
    {
      "cell_type": "markdown",
      "metadata": {
        "vscode": {
          "languageId": "raw"
        }
      },
      "source": [
        "## 1. Python Visualization Ecosystem Overview\n",
        "\n",
        "### Main Libraries and Their Strengths\n",
        "\n",
        "| Library | Best For | Key Features |\n",
        "|---------|----------|--------------|\n",
        "| **Matplotlib** | Publication-quality static plots | - Full control over every element<br>- Supports all plot types<br>- Backend for many other libraries |\n",
        "| **Pandas .plot()** | Quick exploratory data analysis | - Built on matplotlib<br>- Integrated with DataFrames<br>- Minimal code for basic plots |\n",
        "| **Seaborn** | Statistical visualizations | - Beautiful default styles<br>- Statistical plot types<br>- Handles DataFrames natively |\n",
        "| **Plotly** | Interactive web visualizations | - Interactive by default<br>- 3D plots<br>- Dashboard integration |\n",
        "\n",
        "### Quick Decision Guide\n",
        "```\n",
        "Need a quick plot from DataFrame? → pandas .plot()\n",
        "Need statistical visualization? → seaborn\n",
        "Need publication-quality static plot? → matplotlib\n",
        "Need interactive/web visualization? → plotly\n",
        "```\n"
      ]
    },
    {
      "cell_type": "markdown",
      "metadata": {
        "vscode": {
          "languageId": "raw"
        }
      },
      "source": [
        "## 2. Essential Setup and Imports\n",
        "\n",
        "### Standard Import Convention\n"
      ]
    },
    {
      "cell_type": "code",
      "execution_count": 1,
      "metadata": {},
      "outputs": [],
      "source": [
        "# Standard imports for data visualization\n",
        "import numpy as np\n",
        "import pandas as pd\n",
        "import matplotlib.pyplot as plt\n",
        "import seaborn as sns\n",
        "import plotly.graph_objects as go\n",
        "import plotly.express as px\n",
        "\n",
        "# Jupyter notebook setup\n",
        "# %matplotlib inline  # For static plots in notebook\n",
        "# or\n",
        "# %matplotlib notebook  # For interactive matplotlib plots\n",
        "\n",
        "# Set display options\n",
        "pd.set_option('display.max_columns', None)\n",
        "plt.rcParams['figure.figsize'] = (10, 6)  # Default figure size\n",
        "sns.set_style(\"whitegrid\")  # Seaborn style\n"
      ]
    },
    {
      "cell_type": "markdown",
      "metadata": {
        "vscode": {
          "languageId": "raw"
        }
      },
      "source": [
        "## 3. Universal Visualization Principles\n",
        "\n",
        "### The Grammar of Graphics\n",
        "Every plot consists of:\n",
        "1. **Data** - What you're visualizing\n",
        "2. **Aesthetics** - How data maps to visual properties (x, y, color, size)\n",
        "3. **Geometries** - The type of plot (points, lines, bars)\n",
        "4. **Facets** - Subplots by categories\n",
        "5. **Statistics** - Transformations (mean, count, etc.)\n",
        "6. **Coordinates** - Coordinate system (cartesian, polar)\n",
        "7. **Themes** - Overall visual styling\n",
        "\n",
        "### Key Questions Before Plotting\n",
        "1. **What is your message?** - What insight do you want to communicate?\n",
        "2. **Who is your audience?** - Technical vs. non-technical\n",
        "3. **What data type?** - Continuous, categorical, time series\n",
        "4. **How many variables?** - Univariate, bivariate, multivariate\n",
        "\n",
        "### Common Pitfalls to Avoid\n",
        "- 🚫 Using 3D when 2D would be clearer\n",
        "- 🚫 Too many colors or categories\n",
        "- 🚫 Missing axis labels or units\n",
        "- 🚫 Inappropriate plot type for data\n",
        "- 🚫 Not considering colorblind users\n",
        "- 🚫 Cluttered or busy plots\n"
      ]
    },
    {
      "cell_type": "markdown",
      "metadata": {
        "vscode": {
          "languageId": "raw"
        }
      },
      "source": [
        "## 4. Essential Plot Types Quick Reference\n",
        "\n",
        "### By Data Relationship\n",
        "\n",
        "| Relationship | Plot Types | When to Use |\n",
        "|-------------|------------|-------------|\n",
        "| **Distribution** | Histogram, KDE, Box plot, Violin plot | Understanding data spread and outliers |\n",
        "| **Comparison** | Bar chart, Grouped bars, Box plots | Comparing categories or groups |\n",
        "| **Relationship** | Scatter plot, Line plot, Heatmap | Finding correlations or trends |\n",
        "| **Composition** | Pie chart, Stacked bar, Treemap | Showing parts of a whole |\n",
        "| **Time Series** | Line plot, Area chart | Showing change over time |\n",
        "\n",
        "### By Number of Variables\n",
        "\n",
        "| Variables | Best Plot Types |\n",
        "|-----------|----------------|\n",
        "| **1 Variable** | Histogram, Density plot, Box plot |\n",
        "| **2 Variables** | Scatter (continuous), Bar (categorical), Line (time) |\n",
        "| **3+ Variables** | Bubble plot, Parallel coordinates, Facet grids |\n",
        "| **Many-to-Many** | Heatmap, Correlation matrix |\n"
      ]
    },
    {
      "cell_type": "markdown",
      "metadata": {
        "vscode": {
          "languageId": "raw"
        }
      },
      "source": [
        "## 5. Color Guidelines\n",
        "\n",
        "### Color Usage Best Practices\n",
        "\n",
        "1. **Categorical Data**: Use distinct hues\n",
        "   - Maximum 7-10 categories\n",
        "   - Consider colorblind-safe palettes\n",
        "\n",
        "2. **Sequential Data**: Use gradient of single hue\n",
        "   - Light → Dark for low → high values\n",
        "   - Examples: Blues, Greens, Reds\n",
        "\n",
        "3. **Diverging Data**: Two hues with neutral center\n",
        "   - For data with meaningful center (0, mean)\n",
        "   - Example: Red ← White → Blue\n",
        "\n",
        "### Colorblind-Safe Palettes\n",
        "```python\n",
        "# Seaborn colorblind palette\n",
        "sns.color_palette(\"colorblind\")\n",
        "\n",
        "# Matplotlib colorblind-friendly\n",
        "plt.cm.viridis  # Sequential\n",
        "plt.cm.RdBu     # Diverging\n",
        "```\n",
        "\n",
        "### Cultural Color Considerations\n",
        "- Red: Danger/Loss in West, Prosperity in China\n",
        "- Green: Go/Profit in West, Can vary by culture\n",
        "- Blue: Generally safe, professional\n",
        "- Gray: Neutral, good for de-emphasis\n"
      ]
    },
    {
      "cell_type": "markdown",
      "metadata": {
        "vscode": {
          "languageId": "raw"
        }
      },
      "source": [
        "## 6. Quick Plotting Decision Tree\n",
        "\n",
        "```\n",
        "Start Here\n",
        "    ↓\n",
        "Is your data time-based?\n",
        "    Yes → Line plot, Area chart\n",
        "    No ↓\n",
        "    \n",
        "How many variables?\n",
        "    1 → Distribution plot (Histogram, Density, Box)\n",
        "    2 ↓\n",
        "    \n",
        "Are both continuous?\n",
        "    Yes → Scatter plot\n",
        "    No ↓\n",
        "    \n",
        "Is one categorical?\n",
        "    Yes → Bar chart (if other is numeric)\n",
        "         → Count plot (if counting occurrences)\n",
        "    No ↓\n",
        "    \n",
        "Are both categorical?\n",
        "    Yes → Heatmap, Grouped bars\n",
        "    \n",
        "3+ variables?\n",
        "    → Consider: Bubble plot, Pair plot, Facet grid\n",
        "```\n",
        "\n",
        "## 7. Performance Tips\n",
        "\n",
        "1. **Large Datasets** (>10k points)\n",
        "   - Sample or aggregate data\n",
        "   - Use `alpha` for transparency in scatter plots\n",
        "   - Consider hexbin or 2D histograms\n",
        "   - Use datashader for millions of points\n",
        "\n",
        "2. **Many Subplots**\n",
        "   - Pre-create figure and axes: `fig, axes = plt.subplots(n, m)`\n",
        "   - Reuse axes objects\n",
        "   - Clear memory: `plt.close('all')`\n",
        "\n",
        "3. **File Export**\n",
        "   - Vector formats (SVG, PDF) for publication\n",
        "   - PNG for web, choose DPI wisely\n",
        "   - `plt.savefig('plot.png', dpi=300, bbox_inches='tight')`\n"
      ]
    }
  ],
  "metadata": {
    "kernelspec": {
      "display_name": "pydata-book",
      "language": "python",
      "name": "python3"
    },
    "language_info": {
      "codemirror_mode": {
        "name": "ipython",
        "version": 3
      },
      "file_extension": ".py",
      "mimetype": "text/x-python",
      "name": "python",
      "nbconvert_exporter": "python",
      "pygments_lexer": "ipython3",
      "version": "3.13.5"
    }
  },
  "nbformat": 4,
  "nbformat_minor": 2
}
